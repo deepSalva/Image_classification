{
 "cells": [
  {
   "cell_type": "markdown",
   "metadata": {
    "collapsed": true
   },
   "source": [
    "# Image Classification\n",
    "In this project, we'll classify images from the [CIFAR-10 dataset](https://www.cs.toronto.edu/~kriz/cifar.html).  The dataset consists of airplanes, dogs, cats, and other objects. First we preprocess the images, then train a convolutional neural network on all the samples. The images need to be normalized and the labels need to be one-hot encoded.  \n"
   ]
  },
  {
   "cell_type": "code",
   "execution_count": null,
   "metadata": {},
   "outputs": [
    {
     "name": "stderr",
     "output_type": "stream",
     "text": [
      "CIFAR-10 Dataset:  82%|████████▏ | 140M/170M [00:35<00:07, 4.23MB/s]    "
     ]
    }
   ],
   "source": [
    "from urllib.request import urlretrieve\n",
    "from os.path import isfile, isdir\n",
    "from tqdm import tqdm\n",
    "import problem_unittests as tests\n",
    "import tarfile\n",
    "\n",
    "cifar10_dataset_folder_path = 'cifar-10-batches-py'\n",
    "\n",
    "# Use Floyd's cifar-10 dataset if present\n",
    "floyd_cifar10_location = '/input/cifar-10/python.tar.gz'\n",
    "if isfile(floyd_cifar10_location):\n",
    "    tar_gz_path = floyd_cifar10_location\n",
    "else:\n",
    "    tar_gz_path = 'cifar-10-python.tar.gz'\n",
    "\n",
    "class DLProgress(tqdm):\n",
    "    last_block = 0\n",
    "\n",
    "    def hook(self, block_num=1, block_size=1, total_size=None):\n",
    "        self.total = total_size\n",
    "        self.update((block_num - self.last_block) * block_size)\n",
    "        self.last_block = block_num\n",
    "\n",
    "if not isfile(tar_gz_path):\n",
    "    with DLProgress(unit='B', unit_scale=True, miniters=1, desc='CIFAR-10 Dataset') as pbar:\n",
    "        urlretrieve(\n",
    "            'https://www.cs.toronto.edu/~kriz/cifar-10-python.tar.gz',\n",
    "            tar_gz_path,\n",
    "            pbar.hook)\n",
    "\n",
    "if not isdir(cifar10_dataset_folder_path):\n",
    "    with tarfile.open(tar_gz_path) as tar:\n",
    "        tar.extractall()\n",
    "        tar.close()\n",
    "\n",
    "\n",
    "tests.test_folder_path(cifar10_dataset_folder_path)"
   ]
  },
  {
   "cell_type": "markdown",
   "metadata": {},
   "source": [
    "## Explore the Data\n",
    "The dataset is broken into batches to prevent your machine from running out of memory.  The CIFAR-10 dataset consists of 5 batches, named `data_batch_1`, `data_batch_2`, etc.. Each batch contains the labels and images that are one of the following:\n",
    "* airplane\n",
    "* automobile\n",
    "* bird\n",
    "* cat\n",
    "* deer\n",
    "* dog\n",
    "* frog\n",
    "* horse\n",
    "* ship\n",
    "* truck\n",
    "\n",
    "Understanding a dataset is part of making predictions on the data.  Play around with the code cell below by changing the `batch_id` and `sample_id`. The `batch_id` is the id for a batch (1-5). The `sample_id` is the id for a image and label pair in the batch.\n",
    "\n",
    "Ask yourself \"What are all possible labels?\", \"What is the range of values for the image data?\", \"Are the labels in order or random?\".  Answers to questions like these will help you preprocess the data and end up with better predictions."
   ]
  },
  {
   "cell_type": "code",
   "execution_count": 2,
   "metadata": {},
   "outputs": [
    {
     "name": "stdout",
     "output_type": "stream",
     "text": [
      "\n",
      "Stats of batch 3:\n",
      "Samples: 10000\n",
      "Label Counts: {0: 994, 1: 1042, 2: 965, 3: 997, 4: 990, 5: 1029, 6: 978, 7: 1015, 8: 961, 9: 1029}\n",
      "First 20 Labels: [8, 5, 0, 6, 9, 2, 8, 3, 6, 2, 7, 4, 6, 9, 0, 0, 7, 3, 7, 2]\n",
      "\n",
      "Example of Image 23:\n",
      "Image - Min Value: 1 Max Value: 210\n",
      "Image - Shape: (32, 32, 3)\n",
      "Label - Label Id: 0 Name: airplane\n"
     ]
    },
    {
     "data": {
      "image/png": "[encoded data removed]",
      "text/plain": [
       "<matplotlib.figure.Figure at 0x7fae6881c898>"
      ]
     },
     "metadata": {
      "image/png": {
       "height": 250,
       "width": 253
      }
     },
     "output_type": "display_data"
    }
   ],
   "source": [
    "%matplotlib inline\n",
    "%config InlineBackend.figure_format = 'retina'\n",
    "\n",
    "import helper\n",
    "import numpy as np\n",
    "\n",
    "# Explore the dataset\n",
    "batch_id = 3\n",
    "sample_id = 23\n",
    "helper.display_stats(cifar10_dataset_folder_path, batch_id, sample_id)"
   ]
  },
  {
   "cell_type": "markdown",
   "metadata": {},
   "source": [
    "## Implement Preprocess Functions\n",
    "### Normalize\n",
    "In the cell below, implement the `normalize` function to take in image data, `x`, and return it as a normalized Numpy array. The values should be in the range of 0 to 1, inclusive.  The return object should be the same shape as `x`."
   ]
  },
  {
   "cell_type": "code",
   "execution_count": 3,
   "metadata": {},
   "outputs": [
    {
     "name": "stdout",
     "output_type": "stream",
     "text": [
      "Tests Passed\n"
     ]
    }
   ],
   "source": [
    "def normalize(x):\n",
    "    \"\"\"\n",
    "    Normalize a list of sample image data in the range of 0 to 1\n",
    "    : x: List of image data.  The image shape is (32, 32, 3)\n",
    "    : return: Numpy array of normalize data\n",
    "    \"\"\"\n",
    "    # TODO: Implement Function\n",
    "    array = np.array(x)\n",
    "    return array / array.max()\n",
    "\n",
    "\n",
    "\"\"\"\n",
    "DON'T MODIFY ANYTHING IN THIS CELL THAT IS BELOW THIS LINE\n",
    "\"\"\"\n",
    "tests.test_normalize(normalize)"
   ]
  },
  {
   "cell_type": "markdown",
   "metadata": {},
   "source": [
    "### One-hot encode\n",
    "Just like the previous code cell, you'll be implementing a function for preprocessing.  This time, you'll implement the `one_hot_encode` function. The input, `x`, are a list of labels.  Implement the function to return the list of labels as One-Hot encoded Numpy array.  The possible values for labels are 0 to 9. The one-hot encoding function should return the same encoding for each value between each call to `one_hot_encode`.  Make sure to save the map of encodings outside the function.\n",
    "\n",
    "Hint: Don't reinvent the wheel."
   ]
  },
  {
   "cell_type": "code",
   "execution_count": 4,
   "metadata": {},
   "outputs": [
    {
     "name": "stdout",
     "output_type": "stream",
     "text": [
      "Tests Passed\n"
     ]
    }
   ],
   "source": [
    "from sklearn import preprocessing\n",
    "\n",
    "def one_hot_encode(x):\n",
    "    \"\"\"\n",
    "    One hot encode a list of sample labels. Return a one-hot encoded vector for each label.\n",
    "    : x: List of sample Labels\n",
    "    : return: Numpy array of one-hot encoded labels\n",
    "    \"\"\"\n",
    "    # TODO: Implement Function\n",
    "    lb = preprocessing.LabelBinarizer()\n",
    "    lb.fit(x)\n",
    "    lb.classes_ = np.array(list(range(10)))\n",
    "    return lb.transform(x)\n",
    "\n",
    "\"\"\"\n",
    "DON'T MODIFY ANYTHING IN THIS CELL THAT IS BELOW THIS LINE\n",
    "\"\"\"\n",
    "tests.test_one_hot_encode(one_hot_encode)"
   ]
  },
  {
   "cell_type": "markdown",
   "metadata": {},
   "source": [
    "### Randomize Data\n",
    "As you saw from exploring the data above, the order of the samples are randomized.  It doesn't hurt to randomize it again, but you don't need to for this dataset."
   ]
  },
  {
   "cell_type": "markdown",
   "metadata": {},
   "source": [
    "## Preprocess all the data and save it\n",
    "Running the code cell below will preprocess all the CIFAR-10 data and save it to file. The code below also uses 10% of the training data for validation."
   ]
  },
  {
   "cell_type": "code",
   "execution_count": 5,
   "metadata": {
    "collapsed": true
   },
   "outputs": [],
   "source": [
    "\"\"\"\n",
    "DON'T MODIFY ANYTHING IN THIS CELL\n",
    "\"\"\"\n",
    "# Preprocess Training, Validation, and Testing Data\n",
    "helper.preprocess_and_save_data(cifar10_dataset_folder_path, normalize, one_hot_encode)"
   ]
  },
  {
   "cell_type": "markdown",
   "metadata": {},
   "source": [
    "# Check Point\n",
    "This is your first checkpoint.  If you ever decide to come back to this notebook or have to restart the notebook, you can start from here.  The preprocessed data has been saved to disk."
   ]
  },
  {
   "cell_type": "code",
   "execution_count": 6,
   "metadata": {
    "collapsed": true
   },
   "outputs": [],
   "source": [
    "\"\"\"\n",
    "DON'T MODIFY ANYTHING IN THIS CELL\n",
    "\"\"\"\n",
    "import pickle\n",
    "import problem_unittests as tests\n",
    "import helper\n",
    "\n",
    "# Load the Preprocessed Validation data\n",
    "valid_features, valid_labels = pickle.load(open('preprocess_validation.p', mode='rb'))"
   ]
  },
  {
   "cell_type": "markdown",
   "metadata": {},
   "source": [
    "## Build the network\n",
    "For the neural network, you'll build each layer into a function.  Most of the code you've seen has been outside of functions. To test your code more thoroughly, we require that you put each layer in a function.  This allows us to give you better feedback and test for simple mistakes using our unittests before you submit your project.\n",
    "\n",
    ">**Note:** If you're finding it hard to dedicate enough time for this course each week, we've provided a small shortcut to this part of the project. In the next couple of problems, you'll have the option to use classes from the [TensorFlow Layers](https://www.tensorflow.org/api_docs/python/tf/layers) or [TensorFlow Layers (contrib)](https://www.tensorflow.org/api_guides/python/contrib.layers) packages to build each layer, except the layers you build in the \"Convolutional and Max Pooling Layer\" section.  TF Layers is similar to Keras's and TFLearn's abstraction to layers, so it's easy to pickup.\n",
    "\n",
    ">However, if you would like to get the most out of this course, try to solve all the problems _without_ using anything from the TF Layers packages. You **can** still use classes from other packages that happen to have the same name as ones you find in TF Layers! For example, instead of using the TF Layers version of the `conv2d` class, [tf.layers.conv2d](https://www.tensorflow.org/api_docs/python/tf/layers/conv2d), you would want to use the TF Neural Network version of `conv2d`, [tf.nn.conv2d](https://www.tensorflow.org/api_docs/python/tf/nn/conv2d). \n",
    "\n",
    "Let's begin!\n",
    "\n",
    "### Input\n",
    "The neural network needs to read the image data, one-hot encoded labels, and dropout keep probability. Implement the following functions\n",
    "* Implement `neural_net_image_input`\n",
    " * Return a [TF Placeholder](https://www.tensorflow.org/api_docs/python/tf/placeholder)\n",
    " * Set the shape using `image_shape` with batch size set to `None`.\n",
    " * Name the TensorFlow placeholder \"x\" using the TensorFlow `name` parameter in the [TF Placeholder](https://www.tensorflow.org/api_docs/python/tf/placeholder).\n",
    "* Implement `neural_net_label_input`\n",
    " * Return a [TF Placeholder](https://www.tensorflow.org/api_docs/python/tf/placeholder)\n",
    " * Set the shape using `n_classes` with batch size set to `None`.\n",
    " * Name the TensorFlow placeholder \"y\" using the TensorFlow `name` parameter in the [TF Placeholder](https://www.tensorflow.org/api_docs/python/tf/placeholder).\n",
    "* Implement `neural_net_keep_prob_input`\n",
    " * Return a [TF Placeholder](https://www.tensorflow.org/api_docs/python/tf/placeholder) for dropout keep probability.\n",
    " * Name the TensorFlow placeholder \"keep_prob\" using the TensorFlow `name` parameter in the [TF Placeholder](https://www.tensorflow.org/api_docs/python/tf/placeholder).\n",
    "\n",
    "These names will be used at the end of the project to load your saved model.\n",
    "\n",
    "Note: `None` for shapes in TensorFlow allow for a dynamic size."
   ]
  },
  {
   "cell_type": "code",
   "execution_count": 7,
   "metadata": {},
   "outputs": [
    {
     "name": "stdout",
     "output_type": "stream",
     "text": [
      "Image Input Tests Passed.\n",
      "Label Input Tests Passed.\n",
      "Keep Prob Tests Passed.\n"
     ]
    }
   ],
   "source": [
    "import tensorflow as tf\n",
    "\n",
    "def neural_net_image_input(image_shape):\n",
    "    \"\"\"\n",
    "    Return a Tensor for a bach of image input\n",
    "    : image_shape: Shape of the images\n",
    "    : return: Tensor for image input.\n",
    "    \"\"\"\n",
    "    # TODO: Implement Function\n",
    "    x = tf.placeholder(tf.float32, shape=[None, *image_shape], name=\"x\")\n",
    "\n",
    "    return x\n",
    "\n",
    "\n",
    "def neural_net_label_input(n_classes):\n",
    "    \"\"\"\n",
    "    Return a Tensor for a batch of label input\n",
    "    : n_classes: Number of classes\n",
    "    : return: Tensor for label input.\n",
    "    \"\"\"\n",
    "    # TODO: Implement Function\n",
    "    y = tf.placeholder(tf.float32, [None, n_classes], name=\"y\")\n",
    "    return y\n",
    "\n",
    "\n",
    "def neural_net_keep_prob_input():\n",
    "    \"\"\"\n",
    "    Return a Tensor for keep probability\n",
    "    : return: Tensor for keep probability.\n",
    "    \"\"\"\n",
    "    # TODO: Implement Function\n",
    "    keep_prob = tf.placeholder(tf.float32, name=\"keep_prob\")\n",
    "    return keep_prob\n",
    "\n",
    "\n",
    "\"\"\"\n",
    "DON'T MODIFY ANYTHING IN THIS CELL THAT IS BELOW THIS LINE\n",
    "\"\"\"\n",
    "tf.reset_default_graph()\n",
    "tests.test_nn_image_inputs(neural_net_image_input)\n",
    "tests.test_nn_label_inputs(neural_net_label_input)\n",
    "tests.test_nn_keep_prob_inputs(neural_net_keep_prob_input)"
   ]
  },
  {
   "cell_type": "markdown",
   "metadata": {},
   "source": [
    "### Convolution and Max Pooling Layer\n",
    "Convolution layers have a lot of success with images. For this code cell, you should implement the function `conv2d_maxpool` to apply convolution then max pooling:\n",
    "* Create the weight and bias using `conv_ksize`, `conv_num_outputs` and the shape of `x_tensor`.\n",
    "* Apply a convolution to `x_tensor` using weight and `conv_strides`.\n",
    " * We recommend you use same padding, but you're welcome to use any padding.\n",
    "* Add bias\n",
    "* Add a nonlinear activation to the convolution.\n",
    "* Apply Max Pooling using `pool_ksize` and `pool_strides`.\n",
    " * We recommend you use same padding, but you're welcome to use any padding.\n",
    "\n",
    "**Note:** You **can't** use [TensorFlow Layers](https://www.tensorflow.org/api_docs/python/tf/layers) or [TensorFlow Layers (contrib)](https://www.tensorflow.org/api_guides/python/contrib.layers) for **this** layer, but you can still use TensorFlow's [Neural Network](https://www.tensorflow.org/api_docs/python/tf/nn) package. You may still use the shortcut option for all the **other** layers."
   ]
  },
  {
   "cell_type": "code",
   "execution_count": 8,
   "metadata": {},
   "outputs": [
    {
     "name": "stdout",
     "output_type": "stream",
     "text": [
      "Tests Passed\n"
     ]
    }
   ],
   "source": [
    "def conv2d_maxpool(x_tensor, conv_num_outputs, conv_ksize, conv_strides, pool_ksize, pool_strides):\n",
    "    \"\"\"\n",
    "    Apply convolution then max pooling to x_tensor\n",
    "    :param x_tensor: TensorFlow Tensor\n",
    "    :param conv_num_outputs: Number of outputs for the convolutional layer\n",
    "    :param conv_ksize: kernal size 2-D Tuple for the convolutional layer\n",
    "    :param conv_strides: Stride 2-D Tuple for convolution\n",
    "    :param pool_ksize: kernal size 2-D Tuple for pool\n",
    "    :param pool_strides: Stride 2-D Tuple for pool\n",
    "    : return: A tensor that represents convolution and max pooling of x_tensor\n",
    "    \"\"\"\n",
    "    # TODO: Implement Function\n",
    "    weight = tf.Variable(tf.truncated_normal(\n",
    "        shape = [*conv_ksize, int(x_tensor.get_shape().dims[3]), conv_num_outputs], \n",
    "        mean = 0.0, \n",
    "        stddev=np.sqrt(2/x_tensor.shape[-1].value), \n",
    "        dtype=tf.float32))\n",
    "    bias = tf.Variable(tf.zeros(conv_num_outputs))\n",
    "\n",
    "    conv_layer = tf.nn.conv2d(x_tensor, weight, strides=[1, *conv_strides, 1], padding=\"SAME\")\n",
    "    conv_layer = tf.nn.bias_add(conv_layer, bias)\n",
    "\n",
    "    conv_layer = tf.nn.max_pool(conv_layer, ksize=[1, *pool_ksize, 1], strides=[1, *pool_strides, 1], padding='SAME')\n",
    "    conv_layer = tf.nn.relu(conv_layer)\n",
    "    \n",
    "    return conv_layer \n",
    "\n",
    "\n",
    "\"\"\"\n",
    "DON'T MODIFY ANYTHING IN THIS CELL THAT IS BELOW THIS LINE\n",
    "\"\"\"\n",
    "tests.test_con_pool(conv2d_maxpool)"
   ]
  },
  {
   "cell_type": "markdown",
   "metadata": {},
   "source": [
    "### Flatten Layer\n",
    "Implement the `flatten` function to change the dimension of `x_tensor` from a 4-D tensor to a 2-D tensor.  The output should be the shape (*Batch Size*, *Flattened Image Size*). Shortcut option: you can use classes from the [TensorFlow Layers](https://www.tensorflow.org/api_docs/python/tf/layers) or [TensorFlow Layers (contrib)](https://www.tensorflow.org/api_guides/python/contrib.layers) packages for this layer. For more of a challenge, only use other TensorFlow packages."
   ]
  },
  {
   "cell_type": "code",
   "execution_count": 9,
   "metadata": {},
   "outputs": [
    {
     "name": "stdout",
     "output_type": "stream",
     "text": [
      "Tests Passed\n"
     ]
    }
   ],
   "source": [
    "def flatten(x_tensor):\n",
    "    \"\"\"\n",
    "    Flatten x_tensor to (Batch Size, Flattened Image Size)\n",
    "    : x_tensor: A tensor of size (Batch Size, ...), where ... are the image dimensions.\n",
    "    : return: A tensor of size (Batch Size, Flattened Image Size).\n",
    "    \"\"\"\n",
    "    # TODO: Implement Function\n",
    "    return tf.contrib.layers.flatten(x_tensor)\n",
    "\n",
    "\n",
    "\"\"\"\n",
    "DON'T MODIFY ANYTHING IN THIS CELL THAT IS BELOW THIS LINE\n",
    "\"\"\"\n",
    "tests.test_flatten(flatten)"
   ]
  },
  {
   "cell_type": "markdown",
   "metadata": {},
   "source": [
    "### Fully-Connected Layer\n",
    "Implement the `fully_conn` function to apply a fully connected layer to `x_tensor` with the shape (*Batch Size*, *num_outputs*). Shortcut option: you can use classes from the [TensorFlow Layers](https://www.tensorflow.org/api_docs/python/tf/layers) or [TensorFlow Layers (contrib)](https://www.tensorflow.org/api_guides/python/contrib.layers) packages for this layer. For more of a challenge, only use other TensorFlow packages."
   ]
  },
  {
   "cell_type": "code",
   "execution_count": 10,
   "metadata": {},
   "outputs": [
    {
     "name": "stdout",
     "output_type": "stream",
     "text": [
      "Tests Passed\n"
     ]
    }
   ],
   "source": [
    "def fully_conn(x_tensor, num_outputs):\n",
    "    \"\"\"\n",
    "    Apply a fully connected layer to x_tensor using weight and bias\n",
    "    : x_tensor: A 2-D tensor where the first dimension is batch size.\n",
    "    : num_outputs: The number of output that the new tensor should be.\n",
    "    : return: A 2-D tensor where the second dimension is num_outputs.\n",
    "    \"\"\"\n",
    "    # TODO: Implement Function\n",
    "    dropout = 0.75\n",
    "    \n",
    "    weight = tf.Variable(tf.truncated_normal(\n",
    "        shape = [int(x_tensor.get_shape().dims[1]), num_outputs], \n",
    "        mean = 0.0, \n",
    "        stddev=0.1, \n",
    "        dtype=tf.float32))\n",
    "    bias = tf.Variable(tf.zeros(num_outputs))\n",
    "    \n",
    "    fully = tf.reshape(x_tensor, [-1, weight.get_shape().as_list()[0]])\n",
    "    fully = tf.add(tf.matmul(fully, weight), bias)\n",
    "    fully = tf.nn.relu(fully)\n",
    "    # fully = tf.nn.dropout(fully, dropout)\n",
    "    return fully\n",
    "\n",
    "\n",
    "\"\"\"\n",
    "DON'T MODIFY ANYTHING IN THIS CELL THAT IS BELOW THIS LINE\n",
    "\"\"\"\n",
    "tests.test_fully_conn(fully_conn)"
   ]
  },
  {
   "cell_type": "markdown",
   "metadata": {},
   "source": [
    "### Output Layer\n",
    "Implement the `output` function to apply a fully connected layer to `x_tensor` with the shape (*Batch Size*, *num_outputs*). Shortcut option: you can use classes from the [TensorFlow Layers](https://www.tensorflow.org/api_docs/python/tf/layers) or [TensorFlow Layers (contrib)](https://www.tensorflow.org/api_guides/python/contrib.layers) packages for this layer. For more of a challenge, only use other TensorFlow packages.\n",
    "\n",
    "**Note:** Activation, softmax, or cross entropy should **not** be applied to this."
   ]
  },
  {
   "cell_type": "code",
   "execution_count": 11,
   "metadata": {},
   "outputs": [
    {
     "name": "stdout",
     "output_type": "stream",
     "text": [
      "Tests Passed\n"
     ]
    }
   ],
   "source": [
    "def output(x_tensor, num_outputs):\n",
    "    \"\"\"\n",
    "    Apply a output layer to x_tensor using weight and bias\n",
    "    : x_tensor: A 2-D tensor where the first dimension is batch size.\n",
    "    : num_outputs: The number of output that the new tensor should be.\n",
    "    : return: A 2-D tensor where the second dimension is num_outputs.\n",
    "    \"\"\"\n",
    "    # TODO: Implement Function\n",
    "    weight = tf.Variable(tf.truncated_normal(\n",
    "        shape = [int(x_tensor.get_shape().dims[1]), num_outputs], \n",
    "        mean = 0.0, \n",
    "        stddev=0.1, \n",
    "        dtype=tf.float32))\n",
    "    bias = tf.Variable(tf.zeros(num_outputs))\n",
    "    \n",
    "    out = tf.add(tf.matmul(x_tensor, weight), bias)\n",
    "    \n",
    "    return out\n",
    "\n",
    "\n",
    "\"\"\"\n",
    "DON'T MODIFY ANYTHING IN THIS CELL THAT IS BELOW THIS LINE\n",
    "\"\"\"\n",
    "tests.test_output(output)"
   ]
  },
  {
   "cell_type": "markdown",
   "metadata": {},
   "source": [
    "### Create Convolutional Model\n",
    "Implement the function `conv_net` to create a convolutional neural network model. The function takes in a batch of images, `x`, and outputs logits.  Use the layers you created above to create this model:\n",
    "\n",
    "* Apply 1, 2, or 3 Convolution and Max Pool layers\n",
    "* Apply a Flatten Layer\n",
    "* Apply 1, 2, or 3 Fully Connected Layers\n",
    "* Apply an Output Layer\n",
    "* Return the output\n",
    "* Apply [TensorFlow's Dropout](https://www.tensorflow.org/api_docs/python/tf/nn/dropout) to one or more layers in the model using `keep_prob`. "
   ]
  },
  {
   "cell_type": "code",
   "execution_count": 12,
   "metadata": {},
   "outputs": [
    {
     "name": "stdout",
     "output_type": "stream",
     "text": [
      "Neural Network Built!\n"
     ]
    }
   ],
   "source": [
    "def conv_net(x, keep_prob):\n",
    "    \"\"\"\n",
    "    Create a convolutional neural network model\n",
    "    : x: Placeholder tensor that holds image data.\n",
    "    : keep_prob: Placeholder tensor that hold dropout keep probability.\n",
    "    : return: Tensor that represents logits\n",
    "    \"\"\"\n",
    "    # TODO: Apply 1, 2, or 3 Convolution and Max Pool layers\n",
    "    #    Play around with different number of outputs, kernel size and stride\n",
    "    # Function Definition from Above:\n",
    "    #    conv2d_maxpool(x_tensor, conv_num_outputs, conv_ksize, conv_strides, pool_ksize, pool_strides)\n",
    "    conv2d_maxpool_1 = conv2d_maxpool(x, 32, (3, 3), (3, 3), (2, 2), (2, 2))    \n",
    "    conv2d_maxpool_2 = conv2d_maxpool(conv2d_maxpool_1, 64, (3, 3), (3, 3), (2, 2), (2, 2))\n",
    "    conv2d_maxpool_2 = tf.nn.dropout(conv2d_maxpool_2, keep_prob)\n",
    "    \n",
    "\n",
    "    # TODO: Apply a Flatten Layer\n",
    "    # Function Definition from Above:\n",
    "    #   flatten(x_tensor)\n",
    "    flatt = flatten(conv2d_maxpool_2)\n",
    "    flatt = tf.nn.dropout(flatt, keep_prob)\n",
    "    \n",
    "\n",
    "    # TODO: Apply 1, 2, or 3 Fully Connected Layers\n",
    "    #    Play around with different number of outputs\n",
    "    # Function Definition from Above:\n",
    "    #   fully_conn(x_tensor, num_outputs)\n",
    "    fully_1 = fully_conn(flatt, 1024)\n",
    "    fully_1 = tf.nn.dropout(fully_1, keep_prob)\n",
    "    \n",
    "    \n",
    "    # TODO: Apply an Output Layer\n",
    "    #    Set this to the number of classes\n",
    "    # Function Definition from Above:\n",
    "    #   output(x_tensor, num_outputs)\n",
    "    out = output(fully_1, 10)\n",
    "    \n",
    "    \n",
    "    # TODO: return output\n",
    "    return out\n",
    "\n",
    "\n",
    "\"\"\"\n",
    "DON'T MODIFY ANYTHING IN THIS CELL THAT IS BELOW THIS LINE\n",
    "\"\"\"\n",
    "\n",
    "##############################\n",
    "## Build the Neural Network ##\n",
    "##############################\n",
    "\n",
    "# Remove previous weights, bias, inputs, etc..\n",
    "tf.reset_default_graph()\n",
    "\n",
    "# Inputs\n",
    "x = neural_net_image_input((32, 32, 3))\n",
    "y = neural_net_label_input(10)\n",
    "keep_prob = neural_net_keep_prob_input()\n",
    "\n",
    "# Model\n",
    "logits = conv_net(x, keep_prob)\n",
    "\n",
    "# Name logits Tensor, so that is can be loaded from disk after training\n",
    "logits = tf.identity(logits, name='logits')\n",
    "\n",
    "# Loss and Optimizer\n",
    "cost = tf.reduce_mean(tf.nn.softmax_cross_entropy_with_logits(logits=logits, labels=y))\n",
    "optimizer = tf.train.AdamOptimizer().minimize(cost)\n",
    "\n",
    "# Accuracy\n",
    "correct_pred = tf.equal(tf.argmax(logits, 1), tf.argmax(y, 1))\n",
    "accuracy = tf.reduce_mean(tf.cast(correct_pred, tf.float32), name='accuracy')\n",
    "\n",
    "tests.test_conv_net(conv_net)"
   ]
  },
  {
   "cell_type": "markdown",
   "metadata": {},
   "source": [
    "## Train the Neural Network\n",
    "### Single Optimization\n",
    "Implement the function `train_neural_network` to do a single optimization.  The optimization should use `optimizer` to optimize in `session` with a `feed_dict` of the following:\n",
    "* `x` for image input\n",
    "* `y` for labels\n",
    "* `keep_prob` for keep probability for dropout\n",
    "\n",
    "This function will be called for each batch, so `tf.global_variables_initializer()` has already been called.\n",
    "\n",
    "Note: Nothing needs to be returned. This function is only optimizing the neural network."
   ]
  },
  {
   "cell_type": "code",
   "execution_count": 13,
   "metadata": {},
   "outputs": [
    {
     "name": "stdout",
     "output_type": "stream",
     "text": [
      "Tests Passed\n"
     ]
    }
   ],
   "source": [
    "def train_neural_network(session, optimizer, keep_probability, feature_batch, label_batch):\n",
    "    \"\"\"\n",
    "    Optimize the session on a batch of images and labels\n",
    "    : session: Current TensorFlow session\n",
    "    : optimizer: TensorFlow optimizer function\n",
    "    : keep_probability: keep probability\n",
    "    : feature_batch: Batch of Numpy image data\n",
    "    : label_batch: Batch of Numpy label data\n",
    "    \"\"\"\n",
    "    # TODO: Implement Function\n",
    "    session.run(optimizer, feed_dict={\n",
    "        x: feature_batch,\n",
    "        y: label_batch,\n",
    "        keep_prob: keep_probability})\n",
    "    pass\n",
    "\n",
    "\n",
    "\"\"\"\n",
    "DON'T MODIFY ANYTHING IN THIS CELL THAT IS BELOW THIS LINE\n",
    "\"\"\"\n",
    "tests.test_train_nn(train_neural_network)"
   ]
  },
  {
   "cell_type": "markdown",
   "metadata": {},
   "source": [
    "### Show Stats\n",
    "Implement the function `print_stats` to print loss and validation accuracy.  Use the global variables `valid_features` and `valid_labels` to calculate validation accuracy.  Use a keep probability of `1.0` to calculate the loss and validation accuracy."
   ]
  },
  {
   "cell_type": "code",
   "execution_count": 14,
   "metadata": {
    "collapsed": true
   },
   "outputs": [],
   "source": [
    "def print_stats(session, feature_batch, label_batch, cost, accuracy):\n",
    "    \"\"\"\n",
    "    Print information about loss and validation accuracy\n",
    "    : session: Current TensorFlow session\n",
    "    : feature_batch: Batch of Numpy image data\n",
    "    : label_batch: Batch of Numpy label data\n",
    "    : cost: TensorFlow cost function\n",
    "    : accuracy: TensorFlow accuracy function\n",
    "    \"\"\"\n",
    "    # TODO: Implement Function\n",
    "    loss = session.run(cost, feed_dict={\n",
    "        x: feature_batch,\n",
    "        y: label_batch,\n",
    "        keep_prob: 1.0})\n",
    "    valid_acc = session.run(accuracy, feed_dict={\n",
    "        x: valid_features,\n",
    "        y: valid_labels,\n",
    "        keep_prob: 1.0})\n",
    "    print(loss, valid_acc)"
   ]
  },
  {
   "cell_type": "markdown",
   "metadata": {},
   "source": [
    "### Hyperparameters\n",
    "Tune the following parameters:\n",
    "* Set `epochs` to the number of iterations until the network stops learning or start overfitting\n",
    "* Set `batch_size` to the highest number that your machine has memory for.  Most people set them to common sizes of memory:\n",
    " * 64\n",
    " * 128\n",
    " * 256\n",
    " * ...\n",
    "* Set `keep_probability` to the probability of keeping a node using dropout"
   ]
  },
  {
   "cell_type": "code",
   "execution_count": 15,
   "metadata": {
    "collapsed": true
   },
   "outputs": [],
   "source": [
    "# TODO: Tune Parameters\n",
    "epochs = 60\n",
    "batch_size = 1024\n",
    "keep_probability = 0.85"
   ]
  },
  {
   "cell_type": "markdown",
   "metadata": {},
   "source": [
    "### Train on a Single CIFAR-10 Batch\n",
    "Instead of training the neural network on all the CIFAR-10 batches of data, let's use a single batch. This should save time while you iterate on the model to get a better accuracy.  Once the final validation accuracy is 50% or greater, run the model on all the data in the next section."
   ]
  },
  {
   "cell_type": "code",
   "execution_count": 16,
   "metadata": {},
   "outputs": [
    {
     "name": "stdout",
     "output_type": "stream",
     "text": [
      "Checking the Training on a Single Batch...\n",
      "Epoch  1, CIFAR-10 Batch 1:  2.23512 0.2038\n",
      "Epoch  2, CIFAR-10 Batch 1:  2.12019 0.2394\n",
      "Epoch  3, CIFAR-10 Batch 1:  2.01697 0.302\n",
      "Epoch  4, CIFAR-10 Batch 1:  1.9481 0.3302\n",
      "Epoch  5, CIFAR-10 Batch 1:  1.86871 0.3518\n",
      "Epoch  6, CIFAR-10 Batch 1:  1.78839 0.3652\n",
      "Epoch  7, CIFAR-10 Batch 1:  1.7519 0.3714\n",
      "Epoch  8, CIFAR-10 Batch 1:  1.68666 0.3804\n",
      "Epoch  9, CIFAR-10 Batch 1:  1.64914 0.4004\n",
      "Epoch 10, CIFAR-10 Batch 1:  1.61246 0.4044\n",
      "Epoch 11, CIFAR-10 Batch 1:  1.58436 0.4112\n",
      "Epoch 12, CIFAR-10 Batch 1:  1.55128 0.4208\n",
      "Epoch 13, CIFAR-10 Batch 1:  1.52434 0.4254\n",
      "Epoch 14, CIFAR-10 Batch 1:  1.50602 0.4352\n",
      "Epoch 15, CIFAR-10 Batch 1:  1.47598 0.4394\n",
      "Epoch 16, CIFAR-10 Batch 1:  1.46218 0.4434\n",
      "Epoch 17, CIFAR-10 Batch 1:  1.44286 0.4516\n",
      "Epoch 18, CIFAR-10 Batch 1:  1.42729 0.453\n",
      "Epoch 19, CIFAR-10 Batch 1:  1.41125 0.453\n",
      "Epoch 20, CIFAR-10 Batch 1:  1.39784 0.4618\n",
      "Epoch 21, CIFAR-10 Batch 1:  1.3859 0.4668\n",
      "Epoch 22, CIFAR-10 Batch 1:  1.37001 0.467\n",
      "Epoch 23, CIFAR-10 Batch 1:  1.36068 0.4664\n",
      "Epoch 24, CIFAR-10 Batch 1:  1.34204 0.467\n",
      "Epoch 25, CIFAR-10 Batch 1:  1.33608 0.476\n",
      "Epoch 26, CIFAR-10 Batch 1:  1.31825 0.4778\n",
      "Epoch 27, CIFAR-10 Batch 1:  1.31479 0.481\n",
      "Epoch 28, CIFAR-10 Batch 1:  1.30782 0.4784\n",
      "Epoch 29, CIFAR-10 Batch 1:  1.29296 0.4786\n",
      "Epoch 30, CIFAR-10 Batch 1:  1.28227 0.4822\n",
      "Epoch 31, CIFAR-10 Batch 1:  1.27707 0.4862\n",
      "Epoch 32, CIFAR-10 Batch 1:  1.2632 0.485\n",
      "Epoch 33, CIFAR-10 Batch 1:  1.2547 0.4864\n",
      "Epoch 34, CIFAR-10 Batch 1:  1.24024 0.4898\n",
      "Epoch 35, CIFAR-10 Batch 1:  1.23502 0.4906\n",
      "Epoch 36, CIFAR-10 Batch 1:  1.22629 0.4924\n",
      "Epoch 37, CIFAR-10 Batch 1:  1.22363 0.492\n",
      "Epoch 38, CIFAR-10 Batch 1:  1.22542 0.4954\n",
      "Epoch 39, CIFAR-10 Batch 1:  1.19944 0.4954\n",
      "Epoch 40, CIFAR-10 Batch 1:  1.18953 0.4996\n",
      "Epoch 41, CIFAR-10 Batch 1:  1.19096 0.4976\n",
      "Epoch 42, CIFAR-10 Batch 1:  1.17611 0.4962\n",
      "Epoch 43, CIFAR-10 Batch 1:  1.17398 0.501\n",
      "Epoch 44, CIFAR-10 Batch 1:  1.16413 0.4996\n",
      "Epoch 45, CIFAR-10 Batch 1:  1.15649 0.4956\n",
      "Epoch 46, CIFAR-10 Batch 1:  1.15281 0.5012\n",
      "Epoch 47, CIFAR-10 Batch 1:  1.15603 0.4972\n",
      "Epoch 48, CIFAR-10 Batch 1:  1.1361 0.5032\n",
      "Epoch 49, CIFAR-10 Batch 1:  1.1251 0.5028\n",
      "Epoch 50, CIFAR-10 Batch 1:  1.12529 0.5048\n",
      "Epoch 51, CIFAR-10 Batch 1:  1.11114 0.509\n",
      "Epoch 52, CIFAR-10 Batch 1:  1.10362 0.5044\n",
      "Epoch 53, CIFAR-10 Batch 1:  1.10112 0.5024\n",
      "Epoch 54, CIFAR-10 Batch 1:  1.09885 0.5036\n",
      "Epoch 55, CIFAR-10 Batch 1:  1.09039 0.4978\n",
      "Epoch 56, CIFAR-10 Batch 1:  1.09077 0.5084\n",
      "Epoch 57, CIFAR-10 Batch 1:  1.07396 0.5104\n",
      "Epoch 58, CIFAR-10 Batch 1:  1.0691 0.5066\n",
      "Epoch 59, CIFAR-10 Batch 1:  1.06549 0.5082\n",
      "Epoch 60, CIFAR-10 Batch 1:  1.07156 0.51\n"
     ]
    }
   ],
   "source": [
    "\"\"\"\n",
    "DON'T MODIFY ANYTHING IN THIS CELL\n",
    "\"\"\"\n",
    "print('Checking the Training on a Single Batch...')\n",
    "with tf.Session() as sess:\n",
    "    # Initializing the variables\n",
    "    sess.run(tf.global_variables_initializer())\n",
    "    \n",
    "    # Training cycle\n",
    "    for epoch in range(epochs):\n",
    "        batch_i = 1\n",
    "        for batch_features, batch_labels in helper.load_preprocess_training_batch(batch_i, batch_size):\n",
    "            train_neural_network(sess, optimizer, keep_probability, batch_features, batch_labels)\n",
    "        print('Epoch {:>2}, CIFAR-10 Batch {}:  '.format(epoch + 1, batch_i), end='')\n",
    "        print_stats(sess, batch_features, batch_labels, cost, accuracy)"
   ]
  },
  {
   "cell_type": "markdown",
   "metadata": {},
   "source": [
    "### Fully Train the Model\n",
    "Now that you got a good accuracy with a single CIFAR-10 batch, try it with all five batches."
   ]
  },
  {
   "cell_type": "code",
   "execution_count": 17,
   "metadata": {
    "scrolled": true
   },
   "outputs": [
    {
     "name": "stdout",
     "output_type": "stream",
     "text": [
      "Training...\n",
      "Epoch  1, CIFAR-10 Batch 1:  2.2344 0.189\n",
      "Epoch  1, CIFAR-10 Batch 2:  2.12947 0.2678\n",
      "Epoch  1, CIFAR-10 Batch 3:  2.0027 0.2778\n",
      "Epoch  1, CIFAR-10 Batch 4:  1.90668 0.3136\n",
      "Epoch  1, CIFAR-10 Batch 5:  1.88447 0.3172\n",
      "Epoch  2, CIFAR-10 Batch 1:  1.85904 0.3456\n",
      "Epoch  2, CIFAR-10 Batch 2:  1.764 0.362\n",
      "Epoch  2, CIFAR-10 Batch 3:  1.70223 0.3786\n",
      "Epoch  2, CIFAR-10 Batch 4:  1.65619 0.3876\n",
      "Epoch  2, CIFAR-10 Batch 5:  1.69014 0.3922\n",
      "Epoch  3, CIFAR-10 Batch 1:  1.66895 0.4134\n",
      "Epoch  3, CIFAR-10 Batch 2:  1.62055 0.4154\n",
      "Epoch  3, CIFAR-10 Batch 3:  1.55985 0.4218\n",
      "Epoch  3, CIFAR-10 Batch 4:  1.52686 0.4338\n",
      "Epoch  3, CIFAR-10 Batch 5:  1.56867 0.4278\n",
      "Epoch  4, CIFAR-10 Batch 1:  1.53985 0.45\n",
      "Epoch  4, CIFAR-10 Batch 2:  1.5137 0.448\n",
      "Epoch  4, CIFAR-10 Batch 3:  1.49234 0.4434\n",
      "Epoch  4, CIFAR-10 Batch 4:  1.45103 0.4622\n",
      "Epoch  4, CIFAR-10 Batch 5:  1.50729 0.4478\n",
      "Epoch  5, CIFAR-10 Batch 1:  1.46532 0.4706\n",
      "Epoch  5, CIFAR-10 Batch 2:  1.44919 0.4706\n",
      "Epoch  5, CIFAR-10 Batch 3:  1.42881 0.4652\n",
      "Epoch  5, CIFAR-10 Batch 4:  1.38892 0.4714\n",
      "Epoch  5, CIFAR-10 Batch 5:  1.43702 0.4714\n",
      "Epoch  6, CIFAR-10 Batch 1:  1.41978 0.483\n",
      "Epoch  6, CIFAR-10 Batch 2:  1.40562 0.481\n",
      "Epoch  6, CIFAR-10 Batch 3:  1.38112 0.4792\n",
      "Epoch  6, CIFAR-10 Batch 4:  1.35602 0.49\n",
      "Epoch  6, CIFAR-10 Batch 5:  1.39768 0.4778\n",
      "Epoch  7, CIFAR-10 Batch 1:  1.37965 0.4962\n",
      "Epoch  7, CIFAR-10 Batch 2:  1.3662 0.4922\n",
      "Epoch  7, CIFAR-10 Batch 3:  1.34813 0.4888\n",
      "Epoch  7, CIFAR-10 Batch 4:  1.31925 0.4954\n",
      "Epoch  7, CIFAR-10 Batch 5:  1.36475 0.487\n",
      "Epoch  8, CIFAR-10 Batch 1:  1.3482 0.503\n",
      "Epoch  8, CIFAR-10 Batch 2:  1.33385 0.5058\n",
      "Epoch  8, CIFAR-10 Batch 3:  1.31763 0.4982\n",
      "Epoch  8, CIFAR-10 Batch 4:  1.28759 0.507\n",
      "Epoch  8, CIFAR-10 Batch 5:  1.33934 0.497\n",
      "Epoch  9, CIFAR-10 Batch 1:  1.32881 0.5106\n",
      "Epoch  9, CIFAR-10 Batch 2:  1.30493 0.5118\n",
      "Epoch  9, CIFAR-10 Batch 3:  1.30139 0.51\n",
      "Epoch  9, CIFAR-10 Batch 4:  1.26115 0.5154\n",
      "Epoch  9, CIFAR-10 Batch 5:  1.30942 0.5074\n",
      "Epoch 10, CIFAR-10 Batch 1:  1.2966 0.513\n",
      "Epoch 10, CIFAR-10 Batch 2:  1.28168 0.52\n",
      "Epoch 10, CIFAR-10 Batch 3:  1.28463 0.513\n",
      "Epoch 10, CIFAR-10 Batch 4:  1.24338 0.5244\n",
      "Epoch 10, CIFAR-10 Batch 5:  1.29174 0.5128\n",
      "Epoch 11, CIFAR-10 Batch 1:  1.28343 0.5216\n",
      "Epoch 11, CIFAR-10 Batch 2:  1.26101 0.5184\n",
      "Epoch 11, CIFAR-10 Batch 3:  1.25931 0.5218\n",
      "Epoch 11, CIFAR-10 Batch 4:  1.21099 0.5296\n",
      "Epoch 11, CIFAR-10 Batch 5:  1.26362 0.5254\n",
      "Epoch 12, CIFAR-10 Batch 1:  1.26049 0.532\n",
      "Epoch 12, CIFAR-10 Batch 2:  1.24676 0.5264\n",
      "Epoch 12, CIFAR-10 Batch 3:  1.23612 0.5296\n",
      "Epoch 12, CIFAR-10 Batch 4:  1.19289 0.529\n",
      "Epoch 12, CIFAR-10 Batch 5:  1.2482 0.5218\n",
      "Epoch 13, CIFAR-10 Batch 1:  1.24791 0.5366\n",
      "Epoch 13, CIFAR-10 Batch 2:  1.23254 0.5342\n",
      "Epoch 13, CIFAR-10 Batch 3:  1.21586 0.5368\n",
      "Epoch 13, CIFAR-10 Batch 4:  1.17462 0.5398\n",
      "Epoch 13, CIFAR-10 Batch 5:  1.22433 0.5322\n",
      "Epoch 14, CIFAR-10 Batch 1:  1.22902 0.534\n",
      "Epoch 14, CIFAR-10 Batch 2:  1.21401 0.539\n",
      "Epoch 14, CIFAR-10 Batch 3:  1.21758 0.5314\n",
      "Epoch 14, CIFAR-10 Batch 4:  1.16019 0.543\n",
      "Epoch 14, CIFAR-10 Batch 5:  1.21009 0.5338\n",
      "Epoch 15, CIFAR-10 Batch 1:  1.22199 0.5426\n",
      "Epoch 15, CIFAR-10 Batch 2:  1.19782 0.5426\n",
      "Epoch 15, CIFAR-10 Batch 3:  1.19249 0.5348\n",
      "Epoch 15, CIFAR-10 Batch 4:  1.14298 0.5432\n",
      "Epoch 15, CIFAR-10 Batch 5:  1.19314 0.539\n",
      "Epoch 16, CIFAR-10 Batch 1:  1.20465 0.545\n",
      "Epoch 16, CIFAR-10 Batch 2:  1.18128 0.5472\n",
      "Epoch 16, CIFAR-10 Batch 3:  1.16543 0.5464\n",
      "Epoch 16, CIFAR-10 Batch 4:  1.12414 0.5492\n",
      "Epoch 16, CIFAR-10 Batch 5:  1.17097 0.544\n",
      "Epoch 17, CIFAR-10 Batch 1:  1.19288 0.5494\n",
      "Epoch 17, CIFAR-10 Batch 2:  1.17043 0.5468\n",
      "Epoch 17, CIFAR-10 Batch 3:  1.15682 0.552\n",
      "Epoch 17, CIFAR-10 Batch 4:  1.11251 0.5492\n",
      "Epoch 17, CIFAR-10 Batch 5:  1.16673 0.5482\n",
      "Epoch 18, CIFAR-10 Batch 1:  1.18301 0.5468\n",
      "Epoch 18, CIFAR-10 Batch 2:  1.16061 0.55\n",
      "Epoch 18, CIFAR-10 Batch 3:  1.14365 0.5482\n",
      "Epoch 18, CIFAR-10 Batch 4:  1.09567 0.5548\n",
      "Epoch 18, CIFAR-10 Batch 5:  1.14941 0.5472\n",
      "Epoch 19, CIFAR-10 Batch 1:  1.17162 0.5544\n",
      "Epoch 19, CIFAR-10 Batch 2:  1.14403 0.5548\n",
      "Epoch 19, CIFAR-10 Batch 3:  1.13472 0.5558\n",
      "Epoch 19, CIFAR-10 Batch 4:  1.08975 0.5554\n",
      "Epoch 19, CIFAR-10 Batch 5:  1.13748 0.5522\n",
      "Epoch 20, CIFAR-10 Batch 1:  1.15592 0.5602\n",
      "Epoch 20, CIFAR-10 Batch 2:  1.13855 0.562\n",
      "Epoch 20, CIFAR-10 Batch 3:  1.12674 0.5576\n",
      "Epoch 20, CIFAR-10 Batch 4:  1.07047 0.5636\n",
      "Epoch 20, CIFAR-10 Batch 5:  1.12536 0.5536\n",
      "Epoch 21, CIFAR-10 Batch 1:  1.15148 0.5552\n",
      "Epoch 21, CIFAR-10 Batch 2:  1.1209 0.5578\n",
      "Epoch 21, CIFAR-10 Batch 3:  1.10433 0.5602\n",
      "Epoch 21, CIFAR-10 Batch 4:  1.05873 0.5606\n",
      "Epoch 21, CIFAR-10 Batch 5:  1.10855 0.5586\n",
      "Epoch 22, CIFAR-10 Batch 1:  1.14006 0.5626\n",
      "Epoch 22, CIFAR-10 Batch 2:  1.11493 0.5676\n",
      "Epoch 22, CIFAR-10 Batch 3:  1.10542 0.5636\n",
      "Epoch 22, CIFAR-10 Batch 4:  1.05723 0.5658\n",
      "Epoch 22, CIFAR-10 Batch 5:  1.10553 0.5596\n",
      "Epoch 23, CIFAR-10 Batch 1:  1.13184 0.5692\n",
      "Epoch 23, CIFAR-10 Batch 2:  1.10395 0.561\n",
      "Epoch 23, CIFAR-10 Batch 3:  1.08161 0.5668\n",
      "Epoch 23, CIFAR-10 Batch 4:  1.04383 0.5714\n",
      "Epoch 23, CIFAR-10 Batch 5:  1.08566 0.5648\n",
      "Epoch 24, CIFAR-10 Batch 1:  1.1327 0.5716\n",
      "Epoch 24, CIFAR-10 Batch 2:  1.09441 0.5682\n",
      "Epoch 24, CIFAR-10 Batch 3:  1.08257 0.5694\n",
      "Epoch 24, CIFAR-10 Batch 4:  1.03519 0.5734\n",
      "Epoch 24, CIFAR-10 Batch 5:  1.08032 0.5642\n",
      "Epoch 25, CIFAR-10 Batch 1:  1.12029 0.5712\n",
      "Epoch 25, CIFAR-10 Batch 2:  1.08867 0.5706\n",
      "Epoch 25, CIFAR-10 Batch 3:  1.07738 0.5738\n",
      "Epoch 25, CIFAR-10 Batch 4:  1.02994 0.5696\n",
      "Epoch 25, CIFAR-10 Batch 5:  1.08014 0.5734\n",
      "Epoch 26, CIFAR-10 Batch 1:  1.11704 0.5716\n",
      "Epoch 26, CIFAR-10 Batch 2:  1.0882 0.5726\n",
      "Epoch 26, CIFAR-10 Batch 3:  1.07088 0.5758\n",
      "Epoch 26, CIFAR-10 Batch 4:  1.02939 0.5672\n",
      "Epoch 26, CIFAR-10 Batch 5:  1.08299 0.5644\n",
      "Epoch 27, CIFAR-10 Batch 1:  1.11225 0.5742\n",
      "Epoch 27, CIFAR-10 Batch 2:  1.07468 0.5692\n",
      "Epoch 27, CIFAR-10 Batch 3:  1.06916 0.5762\n",
      "Epoch 27, CIFAR-10 Batch 4:  1.0165 0.5734\n",
      "Epoch 27, CIFAR-10 Batch 5:  1.06333 0.5708\n",
      "Epoch 28, CIFAR-10 Batch 1:  1.10158 0.5734\n",
      "Epoch 28, CIFAR-10 Batch 2:  1.07487 0.5692\n",
      "Epoch 28, CIFAR-10 Batch 3:  1.05969 0.5794\n",
      "Epoch 28, CIFAR-10 Batch 4:  1.00517 0.5798\n",
      "Epoch 28, CIFAR-10 Batch 5:  1.05299 0.5734\n",
      "Epoch 29, CIFAR-10 Batch 1:  1.09298 0.5778\n",
      "Epoch 29, CIFAR-10 Batch 2:  1.05347 0.5812\n",
      "Epoch 29, CIFAR-10 Batch 3:  1.0397 0.5764\n",
      "Epoch 29, CIFAR-10 Batch 4:  0.995698 0.5774\n",
      "Epoch 29, CIFAR-10 Batch 5:  1.04404 0.5748\n",
      "Epoch 30, CIFAR-10 Batch 1:  1.08042 0.5804\n",
      "Epoch 30, CIFAR-10 Batch 2:  1.05012 0.571\n",
      "Epoch 30, CIFAR-10 Batch 3:  1.04598 0.5806\n",
      "Epoch 30, CIFAR-10 Batch 4:  0.993271 0.575\n",
      "Epoch 30, CIFAR-10 Batch 5:  1.03295 0.5732\n",
      "Epoch 31, CIFAR-10 Batch 1:  1.07852 0.5804\n",
      "Epoch 31, CIFAR-10 Batch 2:  1.05131 0.5708\n",
      "Epoch 31, CIFAR-10 Batch 3:  1.03349 0.5794\n",
      "Epoch 31, CIFAR-10 Batch 4:  0.984241 0.5818\n",
      "Epoch 31, CIFAR-10 Batch 5:  1.0358 0.571\n",
      "Epoch 32, CIFAR-10 Batch 1:  1.06324 0.5806\n",
      "Epoch 32, CIFAR-10 Batch 2:  1.03328 0.5818\n",
      "Epoch 32, CIFAR-10 Batch 3:  1.02094 0.5874\n",
      "Epoch 32, CIFAR-10 Batch 4:  0.979513 0.5828\n",
      "Epoch 32, CIFAR-10 Batch 5:  1.02664 0.5774\n",
      "Epoch 33, CIFAR-10 Batch 1:  1.06004 0.5848\n",
      "Epoch 33, CIFAR-10 Batch 2:  1.03267 0.5812\n",
      "Epoch 33, CIFAR-10 Batch 3:  1.01559 0.5842\n",
      "Epoch 33, CIFAR-10 Batch 4:  0.976559 0.5812\n",
      "Epoch 33, CIFAR-10 Batch 5:  1.01557 0.5794\n",
      "Epoch 34, CIFAR-10 Batch 1:  1.05285 0.588\n",
      "Epoch 34, CIFAR-10 Batch 2:  1.02426 0.5824\n",
      "Epoch 34, CIFAR-10 Batch 3:  1.012 0.5838\n",
      "Epoch 34, CIFAR-10 Batch 4:  0.961702 0.5886\n",
      "Epoch 34, CIFAR-10 Batch 5:  1.00341 0.5832\n",
      "Epoch 35, CIFAR-10 Batch 1:  1.05262 0.582\n",
      "Epoch 35, CIFAR-10 Batch 2:  1.01613 0.5852\n",
      "Epoch 35, CIFAR-10 Batch 3:  1.00211 0.5842\n",
      "Epoch 35, CIFAR-10 Batch 4:  0.957344 0.5864\n",
      "Epoch 35, CIFAR-10 Batch 5:  1.00423 0.5808\n",
      "Epoch 36, CIFAR-10 Batch 1:  1.04974 0.5784\n",
      "Epoch 36, CIFAR-10 Batch 2:  1.02147 0.5796\n",
      "Epoch 36, CIFAR-10 Batch 3:  0.999858 0.59\n",
      "Epoch 36, CIFAR-10 Batch 4:  0.957897 0.589\n",
      "Epoch 36, CIFAR-10 Batch 5:  0.998825 0.5806\n",
      "Epoch 37, CIFAR-10 Batch 1:  1.03989 0.5858\n",
      "Epoch 37, CIFAR-10 Batch 2:  1.00877 0.5878\n",
      "Epoch 37, CIFAR-10 Batch 3:  1.00016 0.5898\n",
      "Epoch 37, CIFAR-10 Batch 4:  0.950939 0.5856\n",
      "Epoch 37, CIFAR-10 Batch 5:  0.994102 0.5866\n",
      "Epoch 38, CIFAR-10 Batch 1:  1.02982 0.5888\n",
      "Epoch 38, CIFAR-10 Batch 2:  1.00624 0.5846\n"
     ]
    },
    {
     "name": "stdout",
     "output_type": "stream",
     "text": [
      "Epoch 38, CIFAR-10 Batch 3:  0.997696 0.59\n",
      "Epoch 38, CIFAR-10 Batch 4:  0.939234 0.5912\n",
      "Epoch 38, CIFAR-10 Batch 5:  0.981169 0.5854\n",
      "Epoch 39, CIFAR-10 Batch 1:  1.02232 0.5914\n",
      "Epoch 39, CIFAR-10 Batch 2:  0.990486 0.5912\n",
      "Epoch 39, CIFAR-10 Batch 3:  0.988148 0.5926\n",
      "Epoch 39, CIFAR-10 Batch 4:  0.938754 0.5892\n",
      "Epoch 39, CIFAR-10 Batch 5:  0.987591 0.5838\n",
      "Epoch 40, CIFAR-10 Batch 1:  1.02441 0.5926\n",
      "Epoch 40, CIFAR-10 Batch 2:  0.989536 0.5874\n",
      "Epoch 40, CIFAR-10 Batch 3:  0.985803 0.5948\n",
      "Epoch 40, CIFAR-10 Batch 4:  0.933598 0.5894\n",
      "Epoch 40, CIFAR-10 Batch 5:  0.972509 0.5854\n",
      "Epoch 41, CIFAR-10 Batch 1:  1.01517 0.5932\n",
      "Epoch 41, CIFAR-10 Batch 2:  0.984524 0.5912\n",
      "Epoch 41, CIFAR-10 Batch 3:  0.98031 0.5976\n",
      "Epoch 41, CIFAR-10 Batch 4:  0.926994 0.5954\n",
      "Epoch 41, CIFAR-10 Batch 5:  0.967747 0.587\n",
      "Epoch 42, CIFAR-10 Batch 1:  1.0096 0.5988\n",
      "Epoch 42, CIFAR-10 Batch 2:  0.984103 0.5892\n",
      "Epoch 42, CIFAR-10 Batch 3:  0.96742 0.5952\n",
      "Epoch 42, CIFAR-10 Batch 4:  0.924224 0.5978\n",
      "Epoch 42, CIFAR-10 Batch 5:  0.962059 0.5896\n",
      "Epoch 43, CIFAR-10 Batch 1:  1.00437 0.5936\n",
      "Epoch 43, CIFAR-10 Batch 2:  0.978384 0.5908\n",
      "Epoch 43, CIFAR-10 Batch 3:  0.967611 0.5954\n",
      "Epoch 43, CIFAR-10 Batch 4:  0.918975 0.5946\n",
      "Epoch 43, CIFAR-10 Batch 5:  0.956937 0.5944\n",
      "Epoch 44, CIFAR-10 Batch 1:  0.995912 0.595\n",
      "Epoch 44, CIFAR-10 Batch 2:  0.970922 0.5936\n",
      "Epoch 44, CIFAR-10 Batch 3:  0.96129 0.5928\n",
      "Epoch 44, CIFAR-10 Batch 4:  0.916224 0.5922\n",
      "Epoch 44, CIFAR-10 Batch 5:  0.949078 0.5896\n",
      "Epoch 45, CIFAR-10 Batch 1:  1.00055 0.5986\n",
      "Epoch 45, CIFAR-10 Batch 2:  0.969374 0.5932\n",
      "Epoch 45, CIFAR-10 Batch 3:  0.948662 0.5928\n",
      "Epoch 45, CIFAR-10 Batch 4:  0.911994 0.5964\n",
      "Epoch 45, CIFAR-10 Batch 5:  0.938901 0.5916\n",
      "Epoch 46, CIFAR-10 Batch 1:  0.993396 0.5966\n",
      "Epoch 46, CIFAR-10 Batch 2:  0.960174 0.5958\n",
      "Epoch 46, CIFAR-10 Batch 3:  0.947194 0.5962\n",
      "Epoch 46, CIFAR-10 Batch 4:  0.899914 0.5996\n",
      "Epoch 46, CIFAR-10 Batch 5:  0.941743 0.5908\n",
      "Epoch 47, CIFAR-10 Batch 1:  0.985788 0.5998\n",
      "Epoch 47, CIFAR-10 Batch 2:  0.955125 0.6002\n",
      "Epoch 47, CIFAR-10 Batch 3:  0.946124 0.5972\n",
      "Epoch 47, CIFAR-10 Batch 4:  0.900653 0.601\n",
      "Epoch 47, CIFAR-10 Batch 5:  0.926857 0.5952\n",
      "Epoch 48, CIFAR-10 Batch 1:  0.981792 0.5978\n",
      "Epoch 48, CIFAR-10 Batch 2:  0.959756 0.597\n",
      "Epoch 48, CIFAR-10 Batch 3:  0.937041 0.5998\n",
      "Epoch 48, CIFAR-10 Batch 4:  0.904692 0.5938\n",
      "Epoch 48, CIFAR-10 Batch 5:  0.929024 0.5904\n",
      "Epoch 49, CIFAR-10 Batch 1:  0.974897 0.6004\n",
      "Epoch 49, CIFAR-10 Batch 2:  0.94481 0.5974\n",
      "Epoch 49, CIFAR-10 Batch 3:  0.935745 0.5978\n",
      "Epoch 49, CIFAR-10 Batch 4:  0.897972 0.6012\n",
      "Epoch 49, CIFAR-10 Batch 5:  0.926078 0.5948\n",
      "Epoch 50, CIFAR-10 Batch 1:  0.976666 0.5972\n",
      "Epoch 50, CIFAR-10 Batch 2:  0.945533 0.5996\n",
      "Epoch 50, CIFAR-10 Batch 3:  0.936972 0.5998\n",
      "Epoch 50, CIFAR-10 Batch 4:  0.892172 0.6014\n",
      "Epoch 50, CIFAR-10 Batch 5:  0.91412 0.594\n",
      "Epoch 51, CIFAR-10 Batch 1:  0.966402 0.6012\n",
      "Epoch 51, CIFAR-10 Batch 2:  0.946006 0.601\n",
      "Epoch 51, CIFAR-10 Batch 3:  0.928217 0.601\n",
      "Epoch 51, CIFAR-10 Batch 4:  0.886017 0.6024\n",
      "Epoch 51, CIFAR-10 Batch 5:  0.909535 0.6012\n",
      "Epoch 52, CIFAR-10 Batch 1:  0.96756 0.6026\n",
      "Epoch 52, CIFAR-10 Batch 2:  0.935118 0.6032\n",
      "Epoch 52, CIFAR-10 Batch 3:  0.922556 0.5992\n",
      "Epoch 52, CIFAR-10 Batch 4:  0.882218 0.6038\n",
      "Epoch 52, CIFAR-10 Batch 5:  0.904674 0.5962\n",
      "Epoch 53, CIFAR-10 Batch 1:  0.962536 0.6012\n",
      "Epoch 53, CIFAR-10 Batch 2:  0.933187 0.6034\n",
      "Epoch 53, CIFAR-10 Batch 3:  0.917473 0.5988\n",
      "Epoch 53, CIFAR-10 Batch 4:  0.87727 0.6028\n",
      "Epoch 53, CIFAR-10 Batch 5:  0.905766 0.5994\n",
      "Epoch 54, CIFAR-10 Batch 1:  0.954969 0.6024\n",
      "Epoch 54, CIFAR-10 Batch 2:  0.926024 0.6012\n",
      "Epoch 54, CIFAR-10 Batch 3:  0.912759 0.6046\n",
      "Epoch 54, CIFAR-10 Batch 4:  0.866931 0.604\n",
      "Epoch 54, CIFAR-10 Batch 5:  0.892211 0.5994\n",
      "Epoch 55, CIFAR-10 Batch 1:  0.950905 0.604\n",
      "Epoch 55, CIFAR-10 Batch 2:  0.923257 0.6044\n",
      "Epoch 55, CIFAR-10 Batch 3:  0.900685 0.604\n",
      "Epoch 55, CIFAR-10 Batch 4:  0.871593 0.602\n",
      "Epoch 55, CIFAR-10 Batch 5:  0.893295 0.6042\n",
      "Epoch 56, CIFAR-10 Batch 1:  0.941988 0.6008\n",
      "Epoch 56, CIFAR-10 Batch 2:  0.916301 0.6082\n",
      "Epoch 56, CIFAR-10 Batch 3:  0.901187 0.601\n",
      "Epoch 56, CIFAR-10 Batch 4:  0.857621 0.6098\n",
      "Epoch 56, CIFAR-10 Batch 5:  0.891564 0.5976\n",
      "Epoch 57, CIFAR-10 Batch 1:  0.937764 0.6062\n",
      "Epoch 57, CIFAR-10 Batch 2:  0.912883 0.6034\n",
      "Epoch 57, CIFAR-10 Batch 3:  0.901617 0.6064\n",
      "Epoch 57, CIFAR-10 Batch 4:  0.85339 0.6076\n",
      "Epoch 57, CIFAR-10 Batch 5:  0.876226 0.6036\n",
      "Epoch 58, CIFAR-10 Batch 1:  0.936981 0.6052\n",
      "Epoch 58, CIFAR-10 Batch 2:  0.907098 0.6052\n",
      "Epoch 58, CIFAR-10 Batch 3:  0.897102 0.6064\n",
      "Epoch 58, CIFAR-10 Batch 4:  0.857333 0.6066\n",
      "Epoch 58, CIFAR-10 Batch 5:  0.872347 0.603\n",
      "Epoch 59, CIFAR-10 Batch 1:  0.933808 0.6012\n",
      "Epoch 59, CIFAR-10 Batch 2:  0.910469 0.6068\n",
      "Epoch 59, CIFAR-10 Batch 3:  0.887171 0.6038\n",
      "Epoch 59, CIFAR-10 Batch 4:  0.860889 0.6004\n",
      "Epoch 59, CIFAR-10 Batch 5:  0.874679 0.5976\n",
      "Epoch 60, CIFAR-10 Batch 1:  0.927823 0.6074\n",
      "Epoch 60, CIFAR-10 Batch 2:  0.909271 0.601\n",
      "Epoch 60, CIFAR-10 Batch 3:  0.888498 0.6014\n",
      "Epoch 60, CIFAR-10 Batch 4:  0.856113 0.601\n",
      "Epoch 60, CIFAR-10 Batch 5:  0.875082 0.5984\n"
     ]
    }
   ],
   "source": [
    "\"\"\"\n",
    "DON'T MODIFY ANYTHING IN THIS CELL\n",
    "\"\"\"\n",
    "save_model_path = './image_classification'\n",
    "\n",
    "print('Training...')\n",
    "with tf.Session() as sess:\n",
    "    # Initializing the variables\n",
    "    sess.run(tf.global_variables_initializer())\n",
    "    \n",
    "    # Training cycle\n",
    "    for epoch in range(epochs):\n",
    "        # Loop over all batches\n",
    "        n_batches = 5\n",
    "        for batch_i in range(1, n_batches + 1):\n",
    "            for batch_features, batch_labels in helper.load_preprocess_training_batch(batch_i, batch_size):\n",
    "                train_neural_network(sess, optimizer, keep_probability, batch_features, batch_labels)\n",
    "            print('Epoch {:>2}, CIFAR-10 Batch {}:  '.format(epoch + 1, batch_i), end='')\n",
    "            print_stats(sess, batch_features, batch_labels, cost, accuracy)\n",
    "            \n",
    "    # Save Model\n",
    "    saver = tf.train.Saver()\n",
    "    save_path = saver.save(sess, save_model_path)"
   ]
  },
  {
   "cell_type": "markdown",
   "metadata": {},
   "source": [
    "# Checkpoint\n",
    "The model has been saved to disk.\n",
    "## Test Model\n",
    "Test your model against the test dataset.  This will be your final accuracy. You should have an accuracy greater than 50%. If you don't, keep tweaking the model architecture and parameters."
   ]
  },
  {
   "cell_type": "code",
   "execution_count": 21,
   "metadata": {},
   "outputs": [
    {
     "name": "stdout",
     "output_type": "stream",
     "text": [
      "INFO:tensorflow:Restoring parameters from ./image_classification\n",
      "Testing Accuracy: 0.5974290490150451\n",
      "\n"
     ]
    },
    {
     "data": {
      "image/png": "[encoded data removed]",
      "text/plain": [
       "<matplotlib.figure.Figure at 0x7fae381c1cf8>"
      ]
     },
     "metadata": {
      "image/png": {
       "height": 319,
       "width": 355
      }
     },
     "output_type": "display_data"
    }
   ],
   "source": [
    "\"\"\"\n",
    "DON'T MODIFY ANYTHING IN THIS CELL\n",
    "\"\"\"\n",
    "%matplotlib inline\n",
    "%config InlineBackend.figure_format = 'retina'\n",
    "\n",
    "import tensorflow as tf\n",
    "import pickle\n",
    "import helper\n",
    "import random\n",
    "\n",
    "# Set batch size if not already set\n",
    "try:\n",
    "    if batch_size:\n",
    "        pass\n",
    "except NameError:\n",
    "    batch_size = 64\n",
    "\n",
    "save_model_path = './image_classification'\n",
    "n_samples = 4\n",
    "top_n_predictions = 3\n",
    "\n",
    "def test_model():\n",
    "    \"\"\"\n",
    "    Test the saved model against the test dataset\n",
    "    \"\"\"\n",
    "\n",
    "    test_features, test_labels = pickle.load(open('preprocess_training.p', mode='rb'))\n",
    "    loaded_graph = tf.Graph()\n",
    "\n",
    "    with tf.Session(graph=loaded_graph) as sess:\n",
    "        # Load model\n",
    "        loader = tf.train.import_meta_graph(save_model_path + '.meta')\n",
    "        loader.restore(sess, save_model_path)\n",
    "\n",
    "        # Get Tensors from loaded model\n",
    "        loaded_x = loaded_graph.get_tensor_by_name('x:0')\n",
    "        loaded_y = loaded_graph.get_tensor_by_name('y:0')\n",
    "        loaded_keep_prob = loaded_graph.get_tensor_by_name('keep_prob:0')\n",
    "        loaded_logits = loaded_graph.get_tensor_by_name('logits:0')\n",
    "        loaded_acc = loaded_graph.get_tensor_by_name('accuracy:0')\n",
    "        \n",
    "        # Get accuracy in batches for memory limitations\n",
    "        test_batch_acc_total = 0\n",
    "        test_batch_count = 0\n",
    "        \n",
    "        for train_feature_batch, train_label_batch in helper.batch_features_labels(test_features, test_labels, batch_size):\n",
    "            test_batch_acc_total += sess.run(\n",
    "                loaded_acc,\n",
    "                feed_dict={loaded_x: train_feature_batch, loaded_y: train_label_batch, loaded_keep_prob: 1.0})\n",
    "            test_batch_count += 1\n",
    "\n",
    "        print('Testing Accuracy: {}\\n'.format(test_batch_acc_total/test_batch_count))\n",
    "\n",
    "        # Print Random Samples\n",
    "        random_test_features, random_test_labels = tuple(zip(*random.sample(list(zip(test_features, test_labels)), n_samples)))\n",
    "        random_test_predictions = sess.run(\n",
    "            tf.nn.top_k(tf.nn.softmax(loaded_logits), top_n_predictions),\n",
    "            feed_dict={loaded_x: random_test_features, loaded_y: random_test_labels, loaded_keep_prob: 1.0})\n",
    "        helper.display_image_predictions(random_test_features, random_test_labels, random_test_predictions)\n",
    "\n",
    "\n",
    "test_model()"
   ]
  },
  {
   "cell_type": "markdown",
   "metadata": {},
   "source": [
    "## Why 50-70% Accuracy?\n",
    "You might be wondering why you can't get an accuracy any higher. First things first, 50% isn't bad for a simple CNN.  Pure guessing would get you 10% accuracy. However, you might notice people are getting scores [well above 70%](http://rodrigob.github.io/are_we_there_yet/build/classification_datasets_results.html#43494641522d3130).  That's because we haven't taught you all there is to know about neural networks. We still need to cover a few more techniques.\n",
    "## Submitting This Project\n",
    "When submitting this project, make sure to run all the cells before saving the notebook.  Save the notebook file as \"dlnd_image_classification.ipynb\" and save it as a HTML file under \"File\" -> \"Download as\".  Include the \"helper.py\" and \"problem_unittests.py\" files in your submission."
   ]
  }
 ],
 "metadata": {
  "kernelspec": {
   "display_name": "Python 3",
   "language": "python",
   "name": "python3"
  },
  "language_info": {
   "codemirror_mode": {
    "name": "ipython",
    "version": 3
   },
   "file_extension": ".py",
   "mimetype": "text/x-python",
   "name": "python",
   "nbconvert_exporter": "python",
   "pygments_lexer": "ipython3",
   "version": "3.6.7"
  }
 },
 "nbformat": 4,
 "nbformat_minor": 1
}
